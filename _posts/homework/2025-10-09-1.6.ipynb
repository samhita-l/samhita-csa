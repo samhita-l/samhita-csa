{
 "cells": [
  {
   "cell_type": "raw",
   "id": "144e2551",
   "metadata": {
    "vscode": {
     "languageId": "raw"
    }
   },
   "source": [
    "---\n",
    "title: Compound Assignment Operators\n",
    "comments: true\n",
    "layout: post\n",
    "permalink: /lesson16\n",
    "description: Compound Assignment Operators\n",
    "author: Samhita Lagisetti\n",
    "---"
   ]
  },
  {
   "cell_type": "markdown",
   "id": "75a3c9a3",
   "metadata": {},
   "source": [
    "Option C: Fitness Progress Tracker"
   ]
  },
  {
   "cell_type": "code",
   "execution_count": null,
   "id": "9672afa4",
   "metadata": {
    "vscode": {
     "languageId": "java"
    }
   },
   "outputs": [],
   "source": [
    "// Initialize fitness tracking variables\n",
    "int totalCalories = 0;\n",
    "int workoutDays = 0;\n",
    "int stepCount = 0;\n",
    "int weightGoal = 65; // example target weight in kg\n",
    "\n",
    "// Example operations\n",
    "totalCalories += 600;  // Add calories from a meal\n",
    "totalCalories -= 300;  // Subtract calories burned from exercise\n",
    "stepCount += 5000;     // Add steps for the day\n",
    "stepCount *= 2;        // Double steps for an active day\n",
    "double averageSteps = stepCount / 7.0; // Calculate average daily steps over a week\n",
    "\n",
    "int progress = workoutDays;\n",
    "progress %= 7; // Track weekly goal progress\n",
    "\n",
    "System.out.println(\"Fitness Progress Tracker\");\n",
    "\n",
    "System.out.println(\"Starting Calories: 0\");\n",
    "System.out.println(\"Added calories from a meal!\");\n",
    "System.out.println(\"Total Calories: \" + totalCalories); \n",
    "\n",
    "System.out.println(\"Workout Days: \" + workoutDays);\n",
    "System.out.println(\"Calories after workout: \" + totalCalories);\n",
    "\n",
    "System.out.println(\"Average Daily Steps: \" + averageSteps);\n",
    "System.out.println(\"Doubled steps for an active day!\");\n",
    "System.out.println(\"Step Count: \" + stepCount);\n",
    "\n",
    "System.out.println(\"Weekly Progress: \" + progress + \"/7 days\");\n",
    "System.out.println(\"Weight Goal: \" + weightGoal + \" kg\");\n",
    "\n",
    "System.out.println(\"\\n=== SIMULATION COMPLETE ===\");"
   ]
  }
 ],
 "metadata": {
  "language_info": {
   "name": "python"
  }
 },
 "nbformat": 4,
 "nbformat_minor": 5
}
