{
 "cells": [
  {
   "cell_type": "raw",
   "id": "ffaff113",
   "metadata": {},
   "source": [
    "---\n",
    "title: Object Creation and Storage\n",
    "comments: true\n",
    "layout: post\n",
    "permalink: /lesson113\n",
    "description: Object Creation and Storage\n",
    "author: Samhita Lagisetti\n",
    "---"
   ]
  },
  {
   "cell_type": "code",
   "execution_count": null,
   "id": "8bf0094c",
   "metadata": {
    "vscode": {
     "languageId": "java"
    }
   },
   "outputs": [],
   "source": [
    "// Homework Hack #1: Object Creation Practice\n",
    "\n",
    "public class ObjectCreation {\n",
    "    public static void main(String[] args) {\n",
    "        // 1. Create two Car objects using 'new'\n",
    "        // Example: Car car1 = new Car(\"Tesla\", 2024);\n",
    "\n",
    "        // 2. Print each car's info\n",
    "        // Example: System.out.println(car1);\n",
    "    }\n",
    "}\n",
    "\n",
    "class Car {\n",
    "    // 1. Declare variables: brand, year\n",
    "\n",
    "    // 2. Create a constructor to set those variables\n",
    "\n",
    "    // 3. Add a method or toString() to display car info\n",
    "}"
   ]
  }
 ],
 "metadata": {
  "language_info": {
   "name": "python"
  }
 },
 "nbformat": 4,
 "nbformat_minor": 5
}
