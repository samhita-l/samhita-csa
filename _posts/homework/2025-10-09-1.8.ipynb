{
 "cells": [
  {
   "cell_type": "raw",
   "id": "497be3da",
   "metadata": {
    "vscode": {
     "languageId": "raw"
    }
   },
   "source": [
    "---\n",
    "title: Documentation with Comments\n",
    "comments: true\n",
    "layout: post\n",
    "permalink: /lesson18\n",
    "description: Documentation with Comments\n",
    "author: Samhita Lagisetti\n",
    "---"
   ]
  },
  {
   "cell_type": "markdown",
   "id": "70920525",
   "metadata": {},
   "source": [
    "Homework Hack #1"
   ]
  },
  {
   "cell_type": "code",
   "execution_count": 2,
   "id": "08578922",
   "metadata": {
    "vscode": {
     "languageId": "java"
    }
   },
   "outputs": [],
   "source": [
    "/*\n",
    "public class stuff{\n",
    "public static void main(String args[]){\n",
    "int x=5;\n",
    "int y=10;\n",
    "int z=add(x,y);\n",
    "System.out.println(\"ans is \"+z);\n",
    "}\n",
    "\n",
    "static int add(int a,int b){\n",
    "return a+b;\n",
    "}\n",
    "}\n",
    "*/\n"
   ]
  },
  {
   "cell_type": "code",
   "execution_count": 3,
   "id": "ded19d40",
   "metadata": {
    "vscode": {
     "languageId": "java"
    }
   },
   "outputs": [],
   "source": [
    "/**\n",
    " * Demonstrates addition of two integers and prints the result.\n",
    " * <p>\n",
    " * This class contains a main method that adds two numbers using the\n",
    " * {@link #add(int, int)} method and prints the result.\n",
    " * </p>\n",
    " * \n",
    " * <p><b>Example usage:</b></p>\n",
    " * <pre>\n",
    " * Output: ans is 15\n",
    " * </pre>\n",
    " */\n",
    "public class AdditionDemo {\n",
    "\n",
    "    /**\n",
    "     * Main method: adds two integers and prints the result.\n",
    "     * \n",
    "     * @param args command-line arguments (not used)\n",
    "     */\n",
    "    public static void main(String[] args) {\n",
    "        int x = 5;\n",
    "        int y = 10;\n",
    "        int z = add(x, y);\n",
    "        System.out.println(\"ans is \" + z);\n",
    "    }\n",
    "\n",
    "    /**\n",
    "     * Adds two integers together.\n",
    "     * \n",
    "     * @param a first integer\n",
    "     * @param b second integer\n",
    "     * @return the sum of a and b\n",
    "     */\n",
    "    static int add(int a, int b) {\n",
    "        return a + b;\n",
    "    }\n",
    "}\n"
   ]
  },
  {
   "cell_type": "markdown",
   "id": "68b722bc",
   "metadata": {},
   "source": [
    "Added proper class and method-level Javadoc comments.\n",
    "\n",
    "Included preconditions and postconditions implicitly via description and return tag.\n",
    "\n",
    "Renamed class to AdditionDemo to follow Java naming conventions.\n",
    "\n",
    "Added spacing and indentation for readability."
   ]
  },
  {
   "cell_type": "markdown",
   "id": "eccb79d2",
   "metadata": {},
   "source": [
    "Homework Hack #2:"
   ]
  },
  {
   "cell_type": "code",
   "execution_count": 4,
   "id": "27d953c0",
   "metadata": {
    "vscode": {
     "languageId": "java"
    }
   },
   "outputs": [],
   "source": [
    "public boolean enrollStudent(String studentId, String courseCode, int semester) {\n",
    "    Student student = findStudentById(studentId);\n",
    "    if (student == null) return false;\n",
    "\n",
    "    Course course = findCourseByCode(courseCode);\n",
    "    if (course == null) return false;\n",
    "\n",
    "    if (course.isFull()) return false;\n",
    "    if (student.hasScheduleConflict(course)) return false;\n",
    "    if (!student.hasPrerequisites(course)) return false;\n",
    "    if (student.getCreditHours() + course.getCreditHours() > 18) return false;\n",
    "\n",
    "    student.addCourse(course);\n",
    "    course.addStudent(student);\n",
    "    recordEnrollmentTransaction(studentId, courseCode, semester);\n",
    "    return true;\n",
    "}\n"
   ]
  },
  {
   "cell_type": "code",
   "execution_count": 5,
   "id": "a9adb3d0",
   "metadata": {
    "vscode": {
     "languageId": "java"
    }
   },
   "outputs": [],
   "source": [
    "/**\n",
    " * Attempts to enroll a student in a course for a given semester.\n",
    " * <p>\n",
    " * This method checks several conditions before enrollment:\n",
    " * <ul>\n",
    " *   <li>Student exists in the system</li>\n",
    " *   <li>Course exists</li>\n",
    " *   <li>Course is not full</li>\n",
    " *   <li>Student has no schedule conflicts</li>\n",
    " *   <li>Student has the required prerequisites</li>\n",
    " *   <li>Student will not exceed 18 credit hours</li>\n",
    " * </ul>\n",
    " * If all conditions are met, the student is added to the course,\n",
    " * the course adds the student, and the enrollment transaction is recorded.\n",
    " * </p>\n",
    " * \n",
    " * <p><b>Preconditions:</b></p>\n",
    " * <ul>\n",
    " *   <li>{@code studentId} and {@code courseCode} must not be null.</li>\n",
    " *   <li>{@code semester} must be a valid semester identifier.</li>\n",
    " * </ul>\n",
    " * \n",
    " * <p><b>Postconditions:</b></p>\n",
    " * <ul>\n",
    " *   <li>Returns {@code true} if enrollment is successful.</li>\n",
    " *   <li>Returns {@code false} if any condition prevents enrollment.</li>\n",
    " * </ul>\n",
    " * \n",
    " * @param studentId unique identifier for the student\n",
    " * @param courseCode unique identifier for the course\n",
    " * @param semester the semester for enrollment\n",
    " * @return {@code true} if enrollment succeeds; {@code false} otherwise\n",
    " */\n",
    "public boolean enrollStudent(String studentId, String courseCode, int semester) {\n",
    "    Student student = findStudentById(studentId);\n",
    "    if (student == null) return false;\n",
    "\n",
    "    Course course = findCourseByCode(courseCode);\n",
    "    if (course == null) return false;\n",
    "\n",
    "    if (course.isFull()) return false;\n",
    "    if (student.hasScheduleConflict(course)) return false;\n",
    "    if (!student.hasPrerequisites(course)) return false;\n",
    "    if (student.getCreditHours() + course.getCreditHours() > 18) return false;\n",
    "\n",
    "    student.addCourse(course);\n",
    "    course.addStudent(student);\n",
    "    recordEnrollmentTransaction(studentId, courseCode, semester);\n",
    "    return true;\n",
    "}\n"
   ]
  },
  {
   "cell_type": "markdown",
   "id": "4ef4741a",
   "metadata": {},
   "source": [
    "Homework Hack #3:"
   ]
  },
  {
   "cell_type": "markdown",
   "id": "daaa396a",
   "metadata": {},
   "source": [
    "1. Why is documentation more important in team projects than solo projects?\n",
    "\n",
    "In a team, multiple people need to understand, maintain, and use your code. Clear documentation reduces confusion, prevents errors, and helps new team members onboard quickly. In solo projects, you usually understand your own logic, so documentation is less critical (though still useful for future reference).\n",
    "\n",
    "2. Example of when a method SHOULD be documented vs SHOULD NOT:\n",
    "\n",
    "Should: Complex methods, like enrollStudent, that involve multiple checks, interactions with other objects, or important pre/postconditions.\n",
    "\n",
    "Should NOT: Simple getter/setter methods like getName() or setScore(), where functionality is obvious and trivial."
   ]
  },
  {
   "cell_type": "markdown",
   "id": "a69a7df2",
   "metadata": {},
   "source": [
    "Challenge 1:"
   ]
  },
  {
   "cell_type": "code",
   "execution_count": 6,
   "id": "17488893",
   "metadata": {
    "vscode": {
     "languageId": "java"
    }
   },
   "outputs": [],
   "source": [
    "/**\n",
    " * Computes the factorial of a non-negative integer using recursion.\n",
    " * <p>\n",
    " * The factorial of n (denoted n!) is defined as:\n",
    " * <ul>\n",
    " *   <li>Base case: 0! = 1</li>\n",
    " *   <li>Recursive case: n! = n * (n-1)! for n > 0</li>\n",
    " * </ul>\n",
    " * </p>\n",
    " * \n",
    " * <p><b>Preconditions:</b></p>\n",
    " * <ul>\n",
    " *   <li>{@code n} must be greater than or equal to 0.</li>\n",
    " * </ul>\n",
    " * \n",
    " * <p><b>Postconditions:</b></p>\n",
    " * <ul>\n",
    " *   <li>Returns the factorial of {@code n}.</li>\n",
    " * </ul>\n",
    " * \n",
    " * <p><b>Time Complexity:</b> O(n) — linear recursion, each call multiplies once.</p>\n",
    " * <p><b>Space Complexity:</b> O(n) — recursion stack grows linearly with n.</p>\n",
    " * \n",
    " * @param n the non-negative integer whose factorial is computed\n",
    " * @return the factorial of {@code n}\n",
    " * @throws IllegalArgumentException if n is negative\n",
    " * \n",
    " * <p><b>Example usage:</b></p>\n",
    " * <pre>\n",
    " * int result = factorial(5); // result = 120\n",
    " * </pre>\n",
    " */\n",
    "public static int factorial(int n) {\n",
    "    if (n < 0) throw new IllegalArgumentException(\"n must be non-negative\");\n",
    "    if (n == 0) return 1;          // base case\n",
    "    return n * factorial(n - 1);   // recursive case\n",
    "}\n"
   ]
  }
 ],
 "metadata": {
  "kernelspec": {
   "display_name": "Java",
   "language": "java",
   "name": "java"
  },
  "language_info": {
   "codemirror_mode": "java",
   "file_extension": ".jshell",
   "mimetype": "text/x-java-source",
   "name": "Java",
   "pygments_lexer": "java",
   "version": "17.0.16+8-Ubuntu-0ubuntu124.04.1"
  }
 },
 "nbformat": 4,
 "nbformat_minor": 5
}
