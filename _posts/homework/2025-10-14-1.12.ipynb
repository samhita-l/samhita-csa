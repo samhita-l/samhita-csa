{
 "cells": [
  {
   "cell_type": "raw",
   "id": "3eecaac0",
   "metadata": {
    "vscode": {
     "languageId": "raw"
    }
   },
   "source": [
    "---\n",
    "title: Object Creation and Storage\n",
    "comments: true\n",
    "layout: post\n",
    "permalink: /lesson113\n",
    "description: Object Creation and Storage\n",
    "author: Samhita Lagisetti\n",
    "---"
   ]
  },
  {
   "cell_type": "markdown",
   "id": "d08fc451",
   "metadata": {},
   "source": [
    "Popcorn Hack #1"
   ]
  },
  {
   "cell_type": "raw",
   "id": "0a37b818",
   "metadata": {},
   "source": []
  }
 ],
 "metadata": {
  "language_info": {
   "name": "python"
  }
 },
 "nbformat": 4,
 "nbformat_minor": 5
}
