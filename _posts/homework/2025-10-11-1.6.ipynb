{
 "cells": [
  {
   "cell_type": "raw",
   "id": "da1bb320",
   "metadata": {
    "vscode": {
     "languageId": "raw"
    }
   },
   "source": [
    "---\n",
    "title: Compound Assignment Operators\n",
    "comments: true\n",
    "layout: post\n",
    "permalink: /lesson16\n",
    "description: Compound Assignment Operators\n",
    "author: Samhita Lagisetti\n",
    "---"
   ]
  },
  {
   "cell_type": "code",
   "execution_count": null,
   "id": "671a9395",
   "metadata": {
    "vscode": {
     "languageId": "java"
    }
   },
   "outputs": [],
   "source": [
    "public class FrqTemplates {\n",
    "    // FRQ 1\n",
    "    // TODO: implement sumRange(start, end) — sum inclusive, return 0 if start > end\n",
    "    public static int sumRange(int start, int end) {\n",
    "        return 0; // placeholder\n",
    "    }\n",
    "\n",
    "    // FRQ 2\n",
    "    // TODO: implement area(radius) -> circle area (double)\n",
    "    // TODO: implement area(width, height) -> rectangle area (int)\n",
    "    public static double area(double radius) {\n",
    "        return 0.0; // placeholder\n",
    "    }\n",
    "    public static int area(int width, int height) {\n",
    "        return 0; // placeholder\n",
    "    }\n",
    "\n",
    "    // FRQ 3\n",
    "    // TODO: implement formatScore(earned, total) -> \"earned/total\"\n",
    "    // TODO: implement formatScore(percent) -> \"xx.x%\"\n",
    "    public static String formatScore(int earned, int total) {\n",
    "        return \"\"; // placeholder\n",
    "    }\n",
    "    public static String formatScore(double percent) {\n",
    "        return \"\"; // placeholder\n",
    "    }\n",
    "\n",
    "    public static void main(String[] args) {\n",
    "        System.out.println(sumRange(1, 5));      // expected: 15\n",
    "        System.out.println(area(3.0));           // expected: ~28.27\n",
    "        System.out.println(area(3, 4));          // expected: 12\n",
    "        System.out.println(formatScore(45, 50)); // expected: 45/50\n",
    "        System.out.println(formatScore(92.35));  // expected: 92.4%\n",
    "    }\n",
    "}"
   ]
  }
 ],
 "metadata": {
  "language_info": {
   "name": "python"
  }
 },
 "nbformat": 4,
 "nbformat_minor": 5
}
