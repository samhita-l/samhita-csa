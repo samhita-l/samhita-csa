{
 "cells": [
  {
   "cell_type": "raw",
   "id": "af413d6c",
   "metadata": {
    "vscode": {
     "languageId": "raw"
    }
   },
   "source": [
    "---\n",
    "title: Casting and Range of Variables\n",
    "comments: true\n",
    "layout: post\n",
    "permalink: /lesson15\n",
    "description: Object Creation and Storage\n",
    "author: Samhita Lagisetti\n",
    "---"
   ]
  },
  {
   "cell_type": "code",
   "execution_count": null,
   "id": "f2a1e84c",
   "metadata": {
    "vscode": {
     "languageId": "java"
    }
   },
   "outputs": [],
   "source": [
    "int a = 10, b = 4;\n",
    "System.out.println(a / b); //2\n",
    "System.out.println(a % b); //2\n",
    "System.out.println((double)(a / b)); //2.0\n",
    "System.out.println((double)a / b); //2.5"
   ]
  },
  {
   "cell_type": "code",
   "execution_count": null,
   "id": "14355d68",
   "metadata": {
    "vscode": {
     "languageId": "java"
    }
   },
   "outputs": [],
   "source": [
    "double d = -2.6;\n",
    "System.out.println((int)d); //-2\n",
    "System.out.println((int)(d - 0.5)); //-3\n",
    "System.out.println((int)(-d + 0.5)); //3"
   ]
  },
  {
   "cell_type": "code",
   "execution_count": null,
   "id": "842fde78",
   "metadata": {
    "vscode": {
     "languageId": "java"
    }
   },
   "outputs": [],
   "source": [
    "int x = Integer.MAX_VALUE;\n",
    "int y = x + 2;\n",
    "System.out.println(x); //2147483647\n",
    "System.out.println(y); //2147483649"
   ]
  },
  {
   "cell_type": "code",
   "execution_count": 1,
   "id": "cbd67da9",
   "metadata": {},
   "outputs": [
    {
     "name": "stdout",
     "output_type": "stream",
     "text": [
      "a / b   = 2\n",
      "a % b   = 2\n",
      "(double)(a / b) = 2.0\n",
      "(double)a / b   = 2.5\n"
     ]
    }
   ],
   "source": [
    "a, b = 10, 4\n",
    "print(\"a / b   =\", int(a / b))   # integer division result\n",
    "print(\"a % b   =\", a - int(a / b) * b)\n",
    "print(\"(double)(a / b) =\", float(int(a / b)))\n",
    "print(\"(double)a / b   =\", a / b)  # Python uses float division here by default"
   ]
  },
  {
   "cell_type": "markdown",
   "id": "a179dcc9",
   "metadata": {},
   "source": [
    "FRQ-style tasks"
   ]
  },
  {
   "cell_type": "markdown",
   "id": "0b9cf998",
   "metadata": {},
   "source": [
    "FRQ 1. Average with correct casting\n",
    "Write a method avgInt that takes two int values and returns their average as a double, preserving the .5 if present."
   ]
  },
  {
   "cell_type": "code",
   "execution_count": null,
   "id": "7d9a098c",
   "metadata": {
    "vscode": {
     "languageId": "java"
    }
   },
   "outputs": [],
   "source": [
    "public static double avgInt(int a, int b) {\n",
    "    int c = a + b;\n",
    "    return (double) c / 2;\n",
    "}"
   ]
  },
  {
   "cell_type": "markdown",
   "id": "d70853ba",
   "metadata": {},
   "source": [
    "FRQ 2. Percentage\n",
    "Given int correct and int total, compute the percentage as a double from 0.0 to 100.0 without losing fractional precision."
   ]
  },
  {
   "cell_type": "code",
   "execution_count": null,
   "id": "3b68c423",
   "metadata": {
    "vscode": {
     "languageId": "java"
    }
   },
   "outputs": [],
   "source": [
    "public static double percent(int correct, int total) {\n",
    "    return (double) correct / total * 100;\n",
    "}"
   ]
  },
  {
   "cell_type": "markdown",
   "id": "e2e15914",
   "metadata": {},
   "source": [
    "FRQ 3. Safe remainder\n",
    "Implement safeMod(int a, int b) that returns a % b, but if b == 0, it should return 0 instead of throwing."
   ]
  },
  {
   "cell_type": "code",
   "execution_count": null,
   "id": "33a811ff",
   "metadata": {
    "vscode": {
     "languageId": "java"
    }
   },
   "outputs": [],
   "source": [
    "public static int safeMod(int a, int b) {\n",
    "    if (b == 0) {\n",
    "        return 0;\n",
    "    }\n",
    "    return a % b;\n",
    "}"
   ]
  }
 ],
 "metadata": {
  "kernelspec": {
   "display_name": "venv",
   "language": "python",
   "name": "python3"
  },
  "language_info": {
   "codemirror_mode": {
    "name": "ipython",
    "version": 3
   },
   "file_extension": ".py",
   "mimetype": "text/x-python",
   "name": "python",
   "nbconvert_exporter": "python",
   "pygments_lexer": "ipython3",
   "version": "3.12.3"
  }
 },
 "nbformat": 4,
 "nbformat_minor": 5
}
