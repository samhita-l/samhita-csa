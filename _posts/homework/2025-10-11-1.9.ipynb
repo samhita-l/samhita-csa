{
 "cells": [
  {
   "cell_type": "raw",
   "id": "da1bb320",
   "metadata": {
    "vscode": {
     "languageId": "raw"
    }
   },
   "source": [
    "---\n",
    "title: Method Signatures\n",
    "comments: true\n",
    "layout: post\n",
    "permalink: /lesson19\n",
    "description: Method Signatures\n",
    "author: Samhita Lagisetti\n",
    "---"
   ]
  },
  {
   "cell_type": "markdown",
   "id": "018f908e",
   "metadata": {},
   "source": [
    "Practice FRQ"
   ]
  },
  {
   "cell_type": "code",
   "execution_count": 34,
   "id": "671a9395",
   "metadata": {
    "vscode": {
     "languageId": "java"
    }
   },
   "outputs": [
    {
     "name": "stdout",
     "output_type": "stream",
     "text": [
      "15\n",
      "28.274333882308138\n",
      "12\n",
      "45/50\n",
      "92.4%\n"
     ]
    }
   ],
   "source": [
    "public class FRQExamples {\n",
    "\n",
    "    // FRQ 1: sumRange inclusive, return 0 if start > end\n",
    "    public static int sumRange(int start, int end) {\n",
    "        if (start > end) return 0;\n",
    "        int sum = 0;\n",
    "        for (int i = start; i <= end; i++) {\n",
    "            sum += i;\n",
    "        }\n",
    "        return sum;\n",
    "    }\n",
    "\n",
    "    // FRQ 2: area overloads\n",
    "    public static double area(double radius) {  // circle area\n",
    "        return Math.PI * radius * radius;\n",
    "    }\n",
    "\n",
    "    public static int area(int width, int height) {  // rectangle area\n",
    "        return width * height;\n",
    "    }\n",
    "\n",
    "    // FRQ 3: formatScore overloads\n",
    "    public static String formatScore(int earned, int total) {  // \"earned/total\"\n",
    "        return earned + \"/\" + total;\n",
    "    }\n",
    "\n",
    "    public static String formatScore(double percent) {  // \"xx.x%\"\n",
    "        return String.format(\"%.1f%%\", percent);\n",
    "    }\n",
    "\n",
    "    public static void main(String[] args) {\n",
    "        System.out.println(sumRange(1, 5));      // 15\n",
    "        System.out.println(area(3.0));           // ~28.27\n",
    "        System.out.println(area(3, 4));          // 12\n",
    "        System.out.println(formatScore(45, 50)); // 45/50\n",
    "        System.out.println(formatScore(92.35));  // 92.4%\n",
    "    }\n",
    "}\n",
    "\n",
    "FRQExamples.main(new String[]{});\n",
    "\n"
   ]
  },
  {
   "cell_type": "markdown",
   "id": "55ad90a2",
   "metadata": {},
   "source": [
    "Popcorn Hack:"
   ]
  },
  {
   "cell_type": "code",
   "execution_count": 35,
   "id": "4cce1204",
   "metadata": {
    "vscode": {
     "languageId": "java"
    }
   },
   "outputs": [
    {
     "name": "stdout",
     "output_type": "stream",
     "text": [
      "9\n",
      "-2\n",
      "3.5\n",
      "2.0\n"
     ]
    }
   ],
   "source": [
    "public class PopcornMax {\n",
    "    // TODO: write int version of max\n",
    "    \n",
    "    public static int max(int a, int b) {\n",
    "        return a >= b ? a : b;\n",
    "    }\n",
    "    // TODO: write double version of max\n",
    "    public static double max(double a, double b) {\n",
    "        return a >= b ? a : b;\n",
    "    }\n",
    "\n",
    "    public static void main(String[] args) {\n",
    "        System.out.println(max(3, 9));      // expected: 9\n",
    "        System.out.println(max(-2, -7));    // expected: -2\n",
    "        System.out.println(max((double)3.5, (double)2.9));  // expected: 3.5\n",
    "        System.out.println(max((double)2, 2.0));    // should call double version → 2.0\n",
    "    }\n",
    "}\n",
    "\n",
    "PopcornMax.main(new String[]{});\n"
   ]
  },
  {
   "cell_type": "markdown",
   "id": "59ee7ca2",
   "metadata": {},
   "source": [
    "Short Answer:\n",
    "int sum(int a, int b) and double sum(int a, int b) can't both exist because overloading is based only on the method name and parameter list, not the return type.\n",
    "\n",
    "Parameters are variables in a method like a and b and arguments are the actual values passed to the  parameters when the method is called."
   ]
  },
  {
   "cell_type": "markdown",
   "id": "91d7c669",
   "metadata": {},
   "source": [
    "abs Overloads"
   ]
  },
  {
   "cell_type": "code",
   "execution_count": 38,
   "id": "876c0931",
   "metadata": {
    "vscode": {
     "languageId": "java"
    }
   },
   "outputs": [
    {
     "name": "stdout",
     "output_type": "stream",
     "text": [
      "3\n",
      "4.5\n",
      "100\n"
     ]
    }
   ],
   "source": [
    "public class AbsOverloads {\n",
    "    static int abs(int x) {\n",
    "        return x < 0 ? -x : x;\n",
    "    }\n",
    "\n",
    "    static double abs(double x) {\n",
    "        return x < 0 ? -x : x;\n",
    "    }\n",
    "\n",
    "    static long abs(long x) {\n",
    "        return x < 0 ? -x : x;\n",
    "    }\n",
    "\n",
    "    public static void main(String[] args) {\n",
    "        System.out.println(abs(-3));     // 3\n",
    "        System.out.println(abs(-4.5));   // 4.5\n",
    "        System.out.println(abs(-100L));  // 100\n",
    "    }\n",
    "}\n",
    "\n",
    "\n",
    "AbsOverloads.main(new String[]{});\n"
   ]
  },
  {
   "cell_type": "markdown",
   "id": "ed384871",
   "metadata": {},
   "source": [
    "concat overloads"
   ]
  },
  {
   "cell_type": "code",
   "execution_count": 39,
   "id": "422cf6bf",
   "metadata": {
    "vscode": {
     "languageId": "java"
    }
   },
   "outputs": [
    {
     "name": "stdout",
     "output_type": "stream",
     "text": [
      "hithere\n",
      "hahaha\n"
     ]
    }
   ],
   "source": [
    "public class ConcatOverloads {\n",
    "    static String concat(String a, String b) {\n",
    "        return a + b;\n",
    "    }\n",
    "\n",
    "    static String concat(String a, int n) {\n",
    "        String result = \"\";\n",
    "        for (int i = 0; i < n; i++) {\n",
    "            result += a;\n",
    "        }\n",
    "        return result;\n",
    "    }\n",
    "\n",
    "    public static void main(String[] args) {\n",
    "        System.out.println(concat(\"hi\", \"there\")); // hithere\n",
    "        System.out.println(concat(\"ha\", 3));       // hahaha\n",
    "    }\n",
    "}\n",
    "\n",
    "ConcatOverloads.main(new String[]{});"
   ]
  },
  {
   "cell_type": "code",
   "execution_count": 40,
   "id": "f539a916",
   "metadata": {
    "vscode": {
     "languageId": "java"
    }
   },
   "outputs": [
    {
     "name": "stdout",
     "output_type": "stream",
     "text": [
      "int\n",
      "long\n",
      "double\n"
     ]
    }
   ],
   "source": [
    "static void show(int x)    { System.out.println(\"int\"); }\n",
    "static void show(double x) { System.out.println(\"double\"); }\n",
    "static void show(long x)   { System.out.println(\"long\"); }\n",
    "\n",
    "show(7);\n",
    "show(7L);\n",
    "show(7.0);\n"
   ]
  },
  {
   "cell_type": "markdown",
   "id": "e079deec",
   "metadata": {},
   "source": [
    "frq 1"
   ]
  },
  {
   "cell_type": "code",
   "execution_count": 41,
   "id": "41a4255a",
   "metadata": {
    "vscode": {
     "languageId": "java"
    }
   },
   "outputs": [
    {
     "name": "stdout",
     "output_type": "stream",
     "text": [
      "1\n",
      "2\n",
      "-1\n"
     ]
    }
   ],
   "source": [
    "public class IndexOfOverload {\n",
    "    // char version\n",
    "    static int indexOf(char target, String s) {\n",
    "        for (int i = 0; i < s.length(); i++) {\n",
    "            if (s.charAt(i) == target) return i;\n",
    "        }\n",
    "        return -1;\n",
    "    }\n",
    "\n",
    "    // substring version\n",
    "    static int indexOf(String target, String s) {\n",
    "        for (int i = 0; i <= s.length() - target.length(); i++) {\n",
    "            if (s.substring(i, i + target.length()).equals(target))\n",
    "                return i;\n",
    "        }\n",
    "        return -1;\n",
    "    }\n",
    "\n",
    "    public static void main(String[] args) {\n",
    "        System.out.println(indexOf('a', \"java\"));    // 1\n",
    "        System.out.println(indexOf(\"va\", \"java\"));   // 2\n",
    "        System.out.println(indexOf(\"zz\", \"java\"));   // -1\n",
    "    }\n",
    "}\n",
    "\n",
    "IndexOfOverload.main(new String[]{});"
   ]
  },
  {
   "cell_type": "markdown",
   "id": "5ce741e8",
   "metadata": {},
   "source": [
    "frq 2: clamp"
   ]
  },
  {
   "cell_type": "code",
   "execution_count": 42,
   "id": "a7eac716",
   "metadata": {
    "vscode": {
     "languageId": "java"
    }
   },
   "outputs": [
    {
     "name": "stdout",
     "output_type": "stream",
     "text": [
      "5\n",
      "0\n",
      "3\n",
      "2.5\n"
     ]
    }
   ],
   "source": [
    "public class ClampOverload {\n",
    "    static int clamp(int value, int low, int high) {\n",
    "        if (low > high) { int temp = low; low = high; high = temp; }\n",
    "        if (value < low) return low;\n",
    "        if (value > high) return high;\n",
    "        return value;\n",
    "    }\n",
    "\n",
    "    static double clamp(double value, double low, double high) {\n",
    "        if (low > high) { double temp = low; low = high; high = temp; }\n",
    "        if (value < low) return low;\n",
    "        if (value > high) return high;\n",
    "        return value;\n",
    "    }\n",
    "\n",
    "    public static void main(String[] args) {\n",
    "        System.out.println(clamp(10, 0, 5));       // 5\n",
    "        System.out.println(clamp(-1, 0, 5));       // 0\n",
    "        System.out.println(clamp(3, 5, 0));        // 3 (swaps bounds)\n",
    "        System.out.println(clamp(2.7, 1.0, 2.5));  // 2.5\n",
    "    }\n",
    "}\n",
    "ClampOverload.main(new String[]{});"
   ]
  }
 ],
 "metadata": {
  "kernelspec": {
   "display_name": "Java",
   "language": "java",
   "name": "java"
  },
  "language_info": {
   "codemirror_mode": "java",
   "file_extension": ".jshell",
   "mimetype": "text/x-java-source",
   "name": "Java",
   "pygments_lexer": "java",
   "version": "17.0.16+8-Ubuntu-0ubuntu124.04.1"
  }
 },
 "nbformat": 4,
 "nbformat_minor": 5
}
